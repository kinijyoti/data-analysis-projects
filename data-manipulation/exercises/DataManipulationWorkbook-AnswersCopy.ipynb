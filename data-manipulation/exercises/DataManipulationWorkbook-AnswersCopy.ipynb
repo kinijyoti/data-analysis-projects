{
 "cells": [
  {
   "cell_type": "markdown",
   "id": "d2d52186",
   "metadata": {},
   "source": [
    "# Welcome to the Data Manipulation Exercises\n",
    "\n",
    "The workbook has been broken up into three sections.  Each section correlates to a reading assignment within the textbook."
   ]
  },
  {
   "cell_type": "code",
   "execution_count": 7,
   "id": "b781c5c2",
   "metadata": {},
   "outputs": [],
   "source": [
    "import pandas as pd\n",
    "import numpy as np\n",
    "\n",
    "data= pd.read_csv(\"./titanic.csv\")"
   ]
  },
  {
   "cell_type": "markdown",
   "id": "2a701fe6",
   "metadata": {},
   "source": [
    "## Before You Get Started\n",
    "\n",
    "We are going to be using the Titanic Dataset. Make sure to run a head() before you start working with manipulation methods."
   ]
  },
  {
   "cell_type": "code",
   "execution_count": 9,
   "id": "bfa6771a",
   "metadata": {},
   "outputs": [
    {
     "name": "stdout",
     "output_type": "stream",
     "text": [
      "   survived  pclass     sex   age  sibsp  parch     fare embarked  class  \\\n",
      "0         0       3    male  22.0      1      0   7.2500        S  Third   \n",
      "1         1       1  female  38.0      1      0  71.2833        C  First   \n",
      "2         1       3  female  26.0      0      0   7.9250        S  Third   \n",
      "3         1       1  female  35.0      1      0  53.1000        S  First   \n",
      "4         0       3    male  35.0      0      0   8.0500        S  Third   \n",
      "\n",
      "     who  adult_male deck  embark_town alive  alone  \n",
      "0    man        True  NaN  Southampton    no  False  \n",
      "1  woman       False    C    Cherbourg   yes  False  \n",
      "2  woman       False  NaN  Southampton   yes   True  \n",
      "3  woman       False    C  Southampton   yes  False  \n",
      "4    man        True  NaN  Southampton    no   True  \n"
     ]
    }
   ],
   "source": [
    "# Run the head of your data set here:\n",
    "\n",
    "print(data.head())"
   ]
  },
  {
   "cell_type": "code",
   "execution_count": 10,
   "id": "90fb6f46",
   "metadata": {},
   "outputs": [
    {
     "name": "stdout",
     "output_type": "stream",
     "text": [
      "0      False\n",
      "1      False\n",
      "2      False\n",
      "3      False\n",
      "4      False\n",
      "       ...  \n",
      "886     True\n",
      "887    False\n",
      "888    False\n",
      "889    False\n",
      "890    False\n",
      "Length: 891, dtype: bool\n"
     ]
    }
   ],
   "source": [
    "# check for duplicates\n",
    "duplicates = data.duplicated()\n",
    "print(duplicates)"
   ]
  },
  {
   "cell_type": "code",
   "execution_count": 12,
   "id": "dddfd9e9",
   "metadata": {},
   "outputs": [
    {
     "name": "stdout",
     "output_type": "stream",
     "text": [
      "     survived  pclass     sex   age  sibsp  parch     fare embarked  class  \\\n",
      "0           0       3    male  22.0      1      0   7.2500        S  Third   \n",
      "1           1       1  female  38.0      1      0  71.2833        C  First   \n",
      "2           1       3  female  26.0      0      0   7.9250        S  Third   \n",
      "3           1       1  female  35.0      1      0  53.1000        S  First   \n",
      "4           0       3    male  35.0      0      0   8.0500        S  Third   \n",
      "..        ...     ...     ...   ...    ...    ...      ...      ...    ...   \n",
      "885         0       3  female  39.0      0      5  29.1250        Q  Third   \n",
      "887         1       1  female  19.0      0      0  30.0000        S  First   \n",
      "888         0       3  female   NaN      1      2  23.4500        S  Third   \n",
      "889         1       1    male  26.0      0      0  30.0000        C  First   \n",
      "890         0       3    male  32.0      0      0   7.7500        Q  Third   \n",
      "\n",
      "       who  adult_male deck  embark_town alive  alone  \n",
      "0      man        True  NaN  Southampton    no  False  \n",
      "1    woman       False    C    Cherbourg   yes  False  \n",
      "2    woman       False  NaN  Southampton   yes   True  \n",
      "3    woman       False    C  Southampton   yes  False  \n",
      "4      man        True  NaN  Southampton    no   True  \n",
      "..     ...         ...  ...          ...   ...    ...  \n",
      "885  woman       False  NaN   Queenstown    no  False  \n",
      "887  woman       False    B  Southampton   yes   True  \n",
      "888  woman       False  NaN  Southampton    no  False  \n",
      "889    man        True    C    Cherbourg   yes   True  \n",
      "890    man        True  NaN   Queenstown    no   True  \n",
      "\n",
      "[784 rows x 15 columns]\n"
     ]
    }
   ],
   "source": [
    "# if there are, go ahead and drop them:\n",
    "new_dataset = data.drop_duplicates(subset=None, keep='first', inplace=False)\n",
    "print(new_dataset)"
   ]
  },
  {
   "cell_type": "markdown",
   "id": "0f70caa2",
   "metadata": {},
   "source": [
    "### Cleaning Note:\n",
    "\n",
    "While the columns are not the \"prettiest\", don't adjust any of them yet. We are going to update some values and add some values as we workthrough this notebook. Applologies for the extra visual \"noise\" on your screen. You will be given the option to tidy up the columns at the end of this notebook."
   ]
  },
  {
   "cell_type": "markdown",
   "id": "11789dff",
   "metadata": {},
   "source": [
    "## Running Tables Note:  \n",
    "If your tables don't appear to have accepted your changes, try the \"Run All\" option in the \"Cell\" section of the menu bar.  "
   ]
  },
  {
   "cell_type": "markdown",
   "id": "a4104f7d",
   "metadata": {},
   "source": [
    "<span style=\"background-color:dodgerblue; color:dodgerblue;\">- - - - - - - - - - - - - - - - - - - - - - - - - - - - - - - - - - - - - - - - - - - - - - - - - - - - - - - - - - - - - - - - - - - - - - - - - - - - - - - - - - - - - - - - -</span> "
   ]
  },
  {
   "cell_type": "markdown",
   "id": "0948036e",
   "metadata": {},
   "source": [
    "# A. Aggregation\n",
    "\n",
    "1. Work through the section Exercises.  \n",
    "    - There are 4 sections in part A:\n",
    "        - Groupby\n",
    "        - Aggregation Methods\n",
    "        - Groupby and Basic Math\n",
    "        - Groupby and Multiple Aggregations\n"
   ]
  },
  {
   "cell_type": "markdown",
   "id": "1116d353",
   "metadata": {},
   "source": [
    "#### Creating Variables.\n",
    "\n",
    "As we begin to manipulate our data, create new variables to store your work in.  This will keep your original data in tact.  Having the original dataset available will save you time with each manipulation.  You can also create variable names that inform you of the purpose of the manipulation.  "
   ]
  },
  {
   "cell_type": "markdown",
   "id": "0621dc21",
   "metadata": {},
   "source": [
    "### 1: Groupby <span style=\"color:dodgerblue;\"> - - - - - - - - - - - - - - - - - - - - - - - - - - - - - - - - - - - - - - - - - - - - - - - - - - - </span> "
   ]
  },
  {
   "cell_type": "markdown",
   "id": "c89219ea",
   "metadata": {},
   "source": [
    "#### Groupby \"embark_town\"\n",
    "\n",
    "1. Using the titanic data set, groupby \"embark_town\".\n",
    "1. Create a variable that will represent the grouping of data. \n",
    "1. Intitalize it using the groupby() function and pass it the column.\n"
   ]
  },
  {
   "cell_type": "code",
   "execution_count": 18,
   "id": "34322f41",
   "metadata": {},
   "outputs": [],
   "source": [
    "# Code your groupby \"embark_town\" here:\n",
    "grouping_variable = new_dataset.groupby([\"embark_town\"]).sum()"
   ]
  },
  {
   "cell_type": "code",
   "execution_count": 26,
   "id": "0465bb2f",
   "metadata": {},
   "outputs": [
    {
     "name": "stdout",
     "output_type": "stream",
     "text": [
      "             survived  pclass     sex   age  sibsp  parch     fare embarked  \\\n",
      "embark_town                                                                   \n",
      "Cherbourg           1       1  female  38.0      1      0  71.2833        C   \n",
      "Queenstown          0       3    male   2.0      0      0   8.4583        Q   \n",
      "Southampton         0       3    male  22.0      1      0   7.2500        S   \n",
      "\n",
      "             class    who  adult_male deck alive  alone  \n",
      "embark_town                                              \n",
      "Cherbourg    First  woman       False    C   yes  False  \n",
      "Queenstown   Third    man        True    C    no   True  \n",
      "Southampton  Third    man        True    C    no  False  \n"
     ]
    }
   ],
   "source": [
    "# To view the grouped data as a table, use the variable_name.first():\n",
    "grouping_variable = new_dataset.groupby([\"embark_town\"]).first()\n",
    "print(grouping_variable)"
   ]
  },
  {
   "cell_type": "markdown",
   "id": "0ffc226e",
   "metadata": {},
   "source": [
    "#### Groupby \"survived\"\n",
    "\n",
    "Did you know that you can also chain on some of our exploratory methods to the groupby method?\n",
    "\n",
    "1. Create & initalize a new variable to hold a table that will groupby \"survived\" \n",
    "1. Use method chaining to tack on the describe method"
   ]
  },
  {
   "cell_type": "code",
   "execution_count": 28,
   "id": "3e9afd3a",
   "metadata": {},
   "outputs": [
    {
     "name": "stdout",
     "output_type": "stream",
     "text": [
      "          pclass     sex   age  sibsp  parch     fare embarked  class    who  \\\n",
      "survived                                                                       \n",
      "0              3    male  22.0      1      0   7.2500        S  Third    man   \n",
      "1              1  female  38.0      1      0  71.2833        C  First  woman   \n",
      "\n",
      "          adult_male deck  embark_town alive  alone  \n",
      "survived                                             \n",
      "0               True    E  Southampton    no  False  \n",
      "1              False    C    Cherbourg   yes  False  \n"
     ]
    }
   ],
   "source": [
    "# Code your groupby \"survived\" table here:\n",
    "grouping_variable_survived = new_dataset.groupby([\"survived\"]).sum()\n",
    "\n",
    "# run your table below:\n",
    "grouping_variable_survived = new_dataset.groupby([\"survived\"]).first()\n",
    "print(grouping_variable_survived)\n"
   ]
  },
  {
   "cell_type": "code",
   "execution_count": 33,
   "id": "e218b79b",
   "metadata": {},
   "outputs": [
    {
     "name": "stdout",
     "output_type": "stream",
     "text": [
      "         pclass                                                 age  \\\n",
      "          count      mean       std  min  25%  50%  75%  max  count   \n",
      "survived                                                              \n",
      "0         461.0  2.481562  0.770507  1.0  2.0  3.0  3.0  3.0  394.0   \n",
      "1         323.0  1.904025  0.856152  1.0  1.0  2.0  3.0  3.0  284.0   \n",
      "\n",
      "                     ... parch        fare                                     \\\n",
      "               mean  ...   75%  max  count       mean        std  min     25%   \n",
      "survived             ...                                                        \n",
      "0         30.953046  ...   0.0  6.0  461.0  23.944531  33.336385  0.0   7.875   \n",
      "1         28.365915  ...   1.0  5.0  323.0  50.079180  68.009971  0.0  12.825   \n",
      "\n",
      "                                     \n",
      "            50%       75%       max  \n",
      "survived                             \n",
      "0         13.00  26.55000  263.0000  \n",
      "1         26.25  61.37915  512.3292  \n",
      "\n",
      "[2 rows x 40 columns]\n"
     ]
    }
   ],
   "source": [
    "# run your table with describe\n",
    "grouped_data = new_dataset.groupby('survived').describe()\n",
    "print(grouped_data)"
   ]
  },
  {
   "cell_type": "code",
   "execution_count": 9,
   "id": "25c917d1",
   "metadata": {},
   "outputs": [],
   "source": [
    "# How is this table organized?  Why are there 40 columns now?\n",
    "It calculates the summary statistics for each numerical column\n"
   ]
  },
  {
   "cell_type": "markdown",
   "id": "42783c6d",
   "metadata": {},
   "source": [
    "### 2. Aggregation Methods <span style=\"color:dodgerblue;\"> - - - - - - - - - - - - - - - - - - - - - - - - - - - - - - - - - - - - - - - - - - - - - - - - - - - </span> "
   ]
  },
  {
   "cell_type": "markdown",
   "id": "3af74f16",
   "metadata": {},
   "source": [
    "Note: **agg()** and **aggregate()** are identical [source](https://pandas.pydata.org/docs/reference/api/pandas.DataFrame.aggregate.html)"
   ]
  },
  {
   "cell_type": "markdown",
   "id": "14147835",
   "metadata": {},
   "source": [
    "#### Method Chaining\n",
    "\n",
    "1. Create a variable to method chain **head()** and **agg()** togehter.\n",
    "1. Pass one of the following statistical values to **agg()**\n",
    "   - \"mean\", \"median\", \"mode\", \"min\", \"max\", \"std\", \"var\", \"first\", \"last\", \"sum\""
   ]
  },
  {
   "cell_type": "code",
   "execution_count": 52,
   "id": "312a7c2f",
   "metadata": {},
   "outputs": [
    {
     "name": "stdout",
     "output_type": "stream",
     "text": [
      "              fare              age\n",
      "               sum       mean count\n",
      "survived                           \n",
      "0          15.3000   7.650000     2\n",
      "1         132.3083  44.102767     3\n"
     ]
    }
   ],
   "source": [
    "# Code your method chain here:\n",
    "grouped_summary = new_dataset.groupby('survived').agg({\n",
    "    'fare': ['sum', 'mean'],'age': 'count'}).head()\n",
    "print(grouped_summary)\n",
    "\n"
   ]
  },
  {
   "cell_type": "code",
   "execution_count": 53,
   "id": "089919c2",
   "metadata": {},
   "outputs": [
    {
     "name": "stdout",
     "output_type": "stream",
     "text": [
      "          pclass                 sex   age  sibsp  parch      fare embarked  \\\n",
      "survived                                                                      \n",
      "0              6            malemale  57.0      1      0   15.3000       SS   \n",
      "1              5  femalefemalefemale  99.0      2      0  132.3083      CSS   \n",
      "\n",
      "                    class              who  adult_male deck  \\\n",
      "survived                                                      \n",
      "0              ThirdThird           manman           2    0   \n",
      "1         FirstThirdFirst  womanwomanwoman           0   CC   \n",
      "\n",
      "                              embark_town      alive  alone  \n",
      "survived                                                     \n",
      "0                  SouthamptonSouthampton       nono      1  \n",
      "1         CherbourgSouthamptonSouthampton  yesyesyes      1  \n"
     ]
    }
   ],
   "source": [
    "# Create a variable to method chain head() with agg(\"sum\")\n",
    "grouped_sum = new_dataset.groupby('survived').agg(\"sum\").head()\n",
    "print(grouped_sum)\n",
    "# run your table:\n"
   ]
  },
  {
   "cell_type": "code",
   "execution_count": 12,
   "id": "29e72d3b",
   "metadata": {},
   "outputs": [],
   "source": [
    "# Explain the sum table.  What is going on with the \"sex\", \"class\", and \"alive\" columns?\n",
    "\n",
    "Sex, Class and alive is the string column, where pandas will sum these by concatenating the string values together within each group."
   ]
  },
  {
   "cell_type": "markdown",
   "id": "8f370f65",
   "metadata": {},
   "source": [
    "#### Using a Dictionary <span style=\"color:darkorange;\"> - - - - - - - - - - - - - - - - - - - - - - - - - - - - - - - - - - - - - - - - - - - - - - - - - - - </span> \n",
    "##### A dictionary is a Python collection type.  \n",
    "\n",
    "Is a collection type that stores **key-value pairs**.  A key-value pair is an orgainzation system that is made up of a single *key* that has one or more *values* paired with it.  \n",
    "Think of it like your contacts list.  The contacts list is the dictionary object.  \n",
    "Each contact is organized by a key, usually name.  And attached to each name is contact information, or the values.\n",
    "Some contacts might have email address, phone number, home or work address, etc. Other contacts may just be a name and phone number.  This is a very simple example, but understanding this orgainzational structure will be helpful as you learn to manipulate tables.  \n",
    "\n",
    "*Here is a dictionary example with 3 keys:*\n",
    ">**contacts_dictionary = {\"name1\": [\"email\", 555-5552, \"work info\"], \n",
    "      \"name2\": [\"email\", 555-5554],\n",
    "      \"name3\": 555-5555}**\n",
    "                     \n",
    "*Here is a dictionary example with a single key-value pair*\n",
    "**study_group_dictionary = {\"name1\": 555-5557}**   \n",
    "\n",
    "It has a single key, and a list of values. The organization of this structure is called a \"Key-Value Pair\".\n",
    "Using the contact list example, the key would be the name of the person and the values would be their contact information.  The key is a single item (the person's name) and the values can be a single item (an email address) or mulitple items (email, phone number, address, work info, etc).\n",
    "Keys and values can be any data type, but must use correct data type syntax.  The keys do not have to be strings, but they do need to be a single value.  \n",
    "\n",
    "For more information, you can read more on dictionary objects [here](https://www.w3schools.com/python/python_dictionaries.asp).\n"
   ]
  },
  {
   "cell_type": "markdown",
   "id": "ac1059cd",
   "metadata": {},
   "source": [
    "#### Aggregation across muliple columns using dictionary functionality\n",
    "\n",
    "##### Syntax Example:\n",
    "\n",
    "**age_dictionary={\"age\":[\"sum\", \"max\"]}**\n",
    "\n",
    "We are creating a new dictionary (**age_dictionary**).  The key is **age** and the values we want are **\"sum\"\"** and **\"max\"**.  This dictionary object has now become a tempate for the aggregations we want to preform.  However, on it's own, it does nothing.  Once passed to the **agg()** method, it will pick out the specific location of data we want to examine.  Making a subset table.  \n",
    "\n",
    "The code is contained in the box below.  Run it and see what happens.\n",
    "\n",
    "\n",
    "For syntax examples, review [this webpage](https://www.geeksforgeeks.org/python-pandas-dataframe-aggregate/).\n",
    "#### <span style=\"color:coral;\"> - - - - - - - - - - - - - - - - - - - - - - - - - - - - - - - - - - - - - - - - - - - - - - - - - - - </span>"
   ]
  },
  {
   "cell_type": "code",
   "execution_count": 54,
   "id": "89392dec",
   "metadata": {},
   "outputs": [
    {
     "data": {
      "text/html": [
       "<div>\n",
       "<style scoped>\n",
       "    .dataframe tbody tr th:only-of-type {\n",
       "        vertical-align: middle;\n",
       "    }\n",
       "\n",
       "    .dataframe tbody tr th {\n",
       "        vertical-align: top;\n",
       "    }\n",
       "\n",
       "    .dataframe thead th {\n",
       "        text-align: right;\n",
       "    }\n",
       "</style>\n",
       "<table border=\"1\" class=\"dataframe\">\n",
       "  <thead>\n",
       "    <tr style=\"text-align: right;\">\n",
       "      <th></th>\n",
       "      <th>age</th>\n",
       "    </tr>\n",
       "  </thead>\n",
       "  <tbody>\n",
       "    <tr>\n",
       "      <th>sum</th>\n",
       "      <td>21205.17</td>\n",
       "    </tr>\n",
       "    <tr>\n",
       "      <th>max</th>\n",
       "      <td>80.00</td>\n",
       "    </tr>\n",
       "  </tbody>\n",
       "</table>\n",
       "</div>"
      ],
      "text/plain": [
       "          age\n",
       "sum  21205.17\n",
       "max     80.00"
      ]
     },
     "execution_count": 54,
     "metadata": {},
     "output_type": "execute_result"
    }
   ],
   "source": [
    "# Predict the table output before you uncomment the code below.\n",
    "\n",
    "age_dictionary={\"age\":[\"sum\", \"max\"]}\n",
    "dictionary_agg=data.agg(age_dictionary)\n",
    "dictionary_agg"
   ]
  },
  {
   "cell_type": "markdown",
   "id": "c6e1283b",
   "metadata": {},
   "source": [
    "1. What if we want to look at more than one column at a time?  We pass more dictionaries to the agg function.\n",
    "1. Create a variable to hold at least 3 columns.  Use the syntax from the \"Syntax Example\" as a guide.\n",
    "    - Aggregate the following:  survived: \"sum\" & \"count\"; age: \"std\" & \"min\", and sibsp: \"count\" & \"sum\""
   ]
  },
  {
   "cell_type": "code",
   "execution_count": 56,
   "id": "2c7f1c6e",
   "metadata": {},
   "outputs": [
    {
     "data": {
      "text/html": [
       "<div>\n",
       "<style scoped>\n",
       "    .dataframe tbody tr th:only-of-type {\n",
       "        vertical-align: middle;\n",
       "    }\n",
       "\n",
       "    .dataframe tbody tr th {\n",
       "        vertical-align: top;\n",
       "    }\n",
       "\n",
       "    .dataframe thead th {\n",
       "        text-align: right;\n",
       "    }\n",
       "</style>\n",
       "<table border=\"1\" class=\"dataframe\">\n",
       "  <thead>\n",
       "    <tr style=\"text-align: right;\">\n",
       "      <th></th>\n",
       "      <th>age</th>\n",
       "      <th>survived</th>\n",
       "      <th>sibsp</th>\n",
       "    </tr>\n",
       "  </thead>\n",
       "  <tbody>\n",
       "    <tr>\n",
       "      <th>std</th>\n",
       "      <td>14.526497</td>\n",
       "      <td>NaN</td>\n",
       "      <td>NaN</td>\n",
       "    </tr>\n",
       "    <tr>\n",
       "      <th>min</th>\n",
       "      <td>0.420000</td>\n",
       "      <td>NaN</td>\n",
       "      <td>NaN</td>\n",
       "    </tr>\n",
       "    <tr>\n",
       "      <th>sum</th>\n",
       "      <td>NaN</td>\n",
       "      <td>342.0</td>\n",
       "      <td>466.0</td>\n",
       "    </tr>\n",
       "    <tr>\n",
       "      <th>count</th>\n",
       "      <td>NaN</td>\n",
       "      <td>891.0</td>\n",
       "      <td>891.0</td>\n",
       "    </tr>\n",
       "  </tbody>\n",
       "</table>\n",
       "</div>"
      ],
      "text/plain": [
       "             age  survived  sibsp\n",
       "std    14.526497       NaN    NaN\n",
       "min     0.420000       NaN    NaN\n",
       "sum          NaN     342.0  466.0\n",
       "count        NaN     891.0  891.0"
      ]
     },
     "execution_count": 56,
     "metadata": {},
     "output_type": "execute_result"
    }
   ],
   "source": [
    "# Code your dictionary here:\n",
    "age_dictionary={\"age\":[\"std\", \"min\"],\"survived\":[\"sum\",\"count\"],\"sibsp\":[\"count\",\"sum\"]}\n",
    "dictionary_agg=data.agg(age_dictionary)\n",
    "dictionary_agg\n"
   ]
  },
  {
   "cell_type": "markdown",
   "id": "297d7169",
   "metadata": {},
   "source": [
    "### 3. Groupby and Basic Math <span style=\"color:dodgerblue;\"> - - - - - - - - - - - - - - - - - - - - - - - - - - - - - - - - - - - - - - - - - - - - - - - - - - - </span> \n",
    "\n",
    "1. Groupby \"pclass\".  Make sure you use a variable to hold your grouped data."
   ]
  },
  {
   "cell_type": "code",
   "execution_count": 65,
   "id": "ac154abb",
   "metadata": {},
   "outputs": [
    {
     "name": "stdout",
     "output_type": "stream",
     "text": [
      "        survived     sex   age  sibsp  parch     fare embarked  class    who  \\\n",
      "pclass                                                                         \n",
      "1              1  female  38.0      1      0  71.2833        C  First  woman   \n",
      "3              0    male  22.0      1      0   7.2500        S  Third    man   \n",
      "\n",
      "        adult_male  deck  embark_town alive  alone  \n",
      "pclass                                              \n",
      "1            False     C    Cherbourg   yes  False  \n",
      "3             True  None  Southampton    no  False  \n"
     ]
    }
   ],
   "source": [
    "# Code your groupby here:\n",
    "grouping_variable = new_dataset.groupby(\"pclass\").first()\n",
    "\n",
    "print(grouping_variable)\n",
    "\n",
    "# Run your table using first() here instead of head():\n"
   ]
  },
  {
   "cell_type": "markdown",
   "id": "b5b8a0be",
   "metadata": {},
   "source": [
    "### 4. Groupby and Multiple Aggregations <span style=\"color:dodgerblue;\"> - - - - - - - - - - - - - - - - - - - - - - - - - - - - - - - - - - - - - - - - - - - - - - - - - - - </span> "
   ]
  },
  {
   "cell_type": "markdown",
   "id": "83b74e40",
   "metadata": {},
   "source": [
    "#### Group with a List<span style=\"color:dodgerblue;\"> - - - - - - - - - - - - - - - - - - - - - - - - - - - - - - - - - - - - - - - - - - - - - - - - - - - </span>"
   ]
  },
  {
   "cell_type": "markdown",
   "id": "85d1655c",
   "metadata": {},
   "source": [
    "1. We want to do muliple aggregation functions to our newly grouped data set.  We created a variable to hold a list of functions we want to perform.  These functions are part of the agg method.  When we pass our list to the method, the method will iterate through each item and perform that function for the entire table."
   ]
  },
  {
   "cell_type": "code",
   "execution_count": 82,
   "id": "d79b7b1d",
   "metadata": {},
   "outputs": [
    {
     "name": "stdout",
     "output_type": "stream",
     "text": [
      "           pclass\n",
      "sum     11.000000\n",
      "mean     2.200000\n",
      "median   3.000000\n",
      "min      1.000000\n",
      "max      3.000000\n",
      "std      1.095445\n",
      "var      1.200000\n",
      "count    5.000000\n"
     ]
    }
   ],
   "source": [
    "# our list of functions\n",
    "agg_func_list = ['sum', 'mean', 'median', 'min', 'max', 'std', 'var', 'first', 'last', 'count']\n",
    "\n",
    "\n",
    "#Apply the agg method to our passenger_class variable (made in the Groupby Basic Math section).  \n",
    "\n",
    "passenger_class_variable ={\"pclass\":['sum', 'mean','median','min','max', 'std', 'var', 'count']}\n",
    "passenger_class_data = new_dataset.agg(passenger_class_variable)\n",
    "print(passenger_class_data)\n",
    "# Pass our list to the function and run your table.\n",
    "\n",
    "\n",
    "  "
   ]
  },
  {
   "cell_type": "markdown",
   "id": "e734b183",
   "metadata": {},
   "source": [
    "#### Group with a Dictionary<span style=\"color:dodgerblue;\"> - - - - - - - - - - - - - - - - - - - - - - - - - - - - - - - - - - - - - - - - - - - - - - - - - - - </span>\n",
    "\n",
    "Using only a list provides us with the entire table.  What if we only want to look at age vs pclass?  \n",
    "\n",
    "we can create a dictionary to hold the age column for us.  The *key* would be the name of our column, and the values our list of functions to preform on that column.  The code would look like this:"
   ]
  },
  {
   "cell_type": "code",
   "execution_count": 93,
   "id": "460c85da",
   "metadata": {},
   "outputs": [],
   "source": [
    "agg_func_dict = {\n",
    "    'age':\n",
    "    ['sum', 'mean', 'median', 'min', 'max', 'std', 'var', 'first', 'last', 'count']\n",
    "}\n",
    "# We would run our table like this:\n",
    "# passenger_class.agg(agg_func_dict)  "
   ]
  },
  {
   "cell_type": "markdown",
   "id": "18b17b5f",
   "metadata": {},
   "source": [
    "Looking at the *age_func_dict* syntax, create a dictionary variable for the \"survived\" column and pass it to **passenger_class.agg()** in the box below."
   ]
  },
  {
   "cell_type": "code",
   "execution_count": 92,
   "id": "2b05656e",
   "metadata": {},
   "outputs": [
    {
     "name": "stdout",
     "output_type": "stream",
     "text": [
      "         survived                                               \n",
      "              sum mean median min max  std  var first last count\n",
      "survived                                                        \n",
      "0               0  0.0    0.0   0   0  0.0  0.0     0    0     2\n",
      "1               3  1.0    1.0   1   1  0.0  0.0     1    1     3\n"
     ]
    }
   ],
   "source": [
    "# Code it here:\n",
    "\n",
    "agg_func_dict = {\n",
    "    'survived':\n",
    "    ['sum', 'mean', 'median', 'min', 'max', 'std', 'var', 'first', 'last', 'count']\n",
    "}\n",
    "passenger_class = new_dataset.groupby(\"survived\").agg(agg_func_dict)\n",
    "print(passenger_class)\n"
   ]
  },
  {
   "cell_type": "markdown",
   "id": "4a224518",
   "metadata": {},
   "source": [
    "<span style=\"background-color:dodgerblue; color:dodgerblue;\">- - - - - - - - - - - - - - - - - - - - - - - - - - - - - - - - - - - - - - - - - - - - - - - - - - - - - - - - - - - - - - - - - - - - - - - - - - - - - - - - - - - - - - - - -</span> "
   ]
  },
  {
   "cell_type": "markdown",
   "id": "7e825467",
   "metadata": {},
   "source": [
    "# B. Recoding and Creating New Values and Variables \n",
    "\n",
    "1. Work through the Part B, there are 3 sections"
   ]
  },
  {
   "cell_type": "markdown",
   "id": "646f6c33",
   "metadata": {},
   "source": [
    "### Create a New Column <span style=\"color:dodgerblue;\"> - - - - - - - - - - - - - - - - - - - - - - - - - - - - - - - - - - - - - - - - - - - - - - - - - - - </span> \n",
    "\n",
    "In the box below:\n",
    "1. Create a new column by manipulating the values of different column.  Specifically, create a new column, \"fare_2021\" that allows us to compare the cost of fare in pounds back in 1912 to 2021.  [This website](https://www.in2013dollars.com/uk/inflation/1912) can help you find the 2021 fare amount. "
   ]
  },
  {
   "cell_type": "code",
   "execution_count": 19,
   "id": "1d521795",
   "metadata": {},
   "outputs": [],
   "source": [
    "# Code your new \"fare_2021\" column here:\n",
    "\n",
    "# Run the head of your table to see your new column:\n"
   ]
  },
  {
   "cell_type": "markdown",
   "id": "a944618b",
   "metadata": {},
   "source": [
    "### Replacing Values <span style=\"color:dodgerblue;\"> - - - - - - - - - - - - - - - - - - - - - - - - - - - - - - - - - - - - - - - - - - - - - - - - - - - </span> \n",
    " \n",
    "Replace the values in the \"alive\" coloum from string \"yes\" or \"no\" to bools, where \"yes\" becomes True and \"no\" becomes False."
   ]
  },
  {
   "cell_type": "code",
   "execution_count": 96,
   "id": "5aa29ad3",
   "metadata": {},
   "outputs": [
    {
     "name": "stdout",
     "output_type": "stream",
     "text": [
      "   survived  pclass     sex   age  sibsp  parch     fare embarked  class  \\\n",
      "0         0       3    male  22.0      1      0   7.2500        S  Third   \n",
      "1         1       1  female  38.0      1      0  71.2833        C  First   \n",
      "2         1       3  female  26.0      0      0   7.9250        S  Third   \n",
      "3         1       1  female  35.0      1      0  53.1000        S  First   \n",
      "4         0       3    male  35.0      0      0   8.0500        S  Third   \n",
      "\n",
      "     who  adult_male deck  embark_town alive  alone  alive_reformatted  \n",
      "0    man        True  NaN  Southampton    no  False              False  \n",
      "1  woman       False    C    Cherbourg   yes  False               True  \n",
      "2  woman       False  NaN  Southampton   yes   True               True  \n",
      "3  woman       False    C  Southampton   yes  False               True  \n",
      "4    man        True  NaN  Southampton    no   True              False  \n"
     ]
    },
    {
     "name": "stderr",
     "output_type": "stream",
     "text": [
      "/var/folders/2d/906cqx291nj35y4hsw4nlbn80000gn/T/ipykernel_5017/867462645.py:3: FutureWarning: Downcasting behavior in `replace` is deprecated and will be removed in a future version. To retain the old behavior, explicitly call `result.infer_objects(copy=False)`. To opt-in to the future behavior, set `pd.set_option('future.no_silent_downcasting', True)`\n",
      "  new_dataset[\"alive_reformatted\"] = new_dataset[\"alive\"].replace({\"yes\" : True, \"no\": False})\n"
     ]
    }
   ],
   "source": [
    "# Code your updated values here:\n",
    "\n",
    "new_dataset[\"alive_reformatted\"] = new_dataset[\"alive\"].replace({\"yes\" : True, \"no\": False})\n",
    "print(new_dataset)"
   ]
  },
  {
   "cell_type": "markdown",
   "id": "961d7e60",
   "metadata": {},
   "source": [
    "We can also use functions to update values.\n",
    "\n",
    "1. Create a function that will set the alive values as bools. Apply it to your table and run your table here:"
   ]
  },
  {
   "cell_type": "code",
   "execution_count": 109,
   "id": "6b14b0ee",
   "metadata": {},
   "outputs": [],
   "source": [
    "# Code your function here:\n",
    "def set_alive_to_bool(new_dataset):\n",
    "    new_dataset[\"alive\"] = new_dataset[\"alive\"].replace({\"yes\": True, \"no\": False})\n",
    "    return new_dataset\n",
    "    updated_new_dataset = set_alive_to_bool(new_dataset)\n",
    "    print(updated_new_dataset)"
   ]
  },
  {
   "cell_type": "markdown",
   "id": "6a830345",
   "metadata": {},
   "source": [
    "### Using a function to create a new column <span style=\"color:dodgerblue;\"> - - - - - - - - - - - - - - - - - - - - - - - - - - - - - - - - - - - - - - - - - - - - - - - - - - - </span> \n",
    "\n",
    "Sometimes you might want to create a new column based on combining multiple columns together.\n",
    "\n",
    "1. create an \"age_group\" column that breaks years up as 0-19, 20-29, 30-39, etc until all given ages are covered.  Make sure you check to see where you can stop counting by 10s."
   ]
  },
  {
   "cell_type": "code",
   "execution_count": 108,
   "id": "ca1e0dee",
   "metadata": {},
   "outputs": [
    {
     "name": "stdout",
     "output_type": "stream",
     "text": [
      "38.0\n"
     ]
    }
   ],
   "source": [
    "# Write your max age check here:\n",
    "max_age = new_dataset[\"age\"].max()\n",
    "print(max_age)"
   ]
  },
  {
   "cell_type": "code",
   "execution_count": 160,
   "id": "9061858c",
   "metadata": {},
   "outputs": [],
   "source": [
    "# Code the new \"age_group\" column function here:\n",
    "max_age = new_dataset[\"age\"].max()\n",
    "bins = range(0, max_age + 10, 10)\n",
    "labels = [f\"{i}-{i+9}\" for i in bins[:-1]]\n",
    "new_dataset[\"age_group\"] = pd.cut(new_dataset[\"age\"], bins=bins, labels=labels, right=False)\n",
    "print(new_dataset)"
   ]
  },
  {
   "cell_type": "markdown",
   "id": "9a64ca65",
   "metadata": {},
   "source": [
    "<span style=\"background-color:dodgerblue; color:dodgerblue;\">- - - - - - - - - - - - - - - - - - - - - - - - - - - - - - - - - - - - - - - - - - - - - - - - - - - - - - - - - - - - - - - - - - - - - - - - - - - - - - - - - - - - - - - - -</span> "
   ]
  },
  {
   "cell_type": "markdown",
   "id": "5760d2ed",
   "metadata": {},
   "source": [
    "# C. Reshaping Tables\n",
    "\n",
    "1. Work through Part C, there are 4 sections"
   ]
  },
  {
   "cell_type": "markdown",
   "id": "9f6ceef3",
   "metadata": {},
   "source": [
    "### Sort_values <span style=\"color:dodgerblue;\"> - - - - - - - - - - - - - - - - - - - - - - - - - - - - - - - - - - - - - - - - - - - - - - - - - - - </span> "
   ]
  },
  {
   "cell_type": "markdown",
   "id": "268ddc8a",
   "metadata": {},
   "source": [
    "Use **sort_values()** to answer the following question:\n",
    "> What is the age of the person who paid the highest fare?\n",
    "\n",
    "Hint: We want to see the highest fare value first. What order would we want? ascending or descending?  Check the [documentation](https://pandas.pydata.org/docs/reference/api/pandas.DataFrame.sort_values.html?highlight=sort_values#pandas.DataFrame.sort_values) for the syntax."
   ]
  },
  {
   "cell_type": "code",
   "execution_count": 115,
   "id": "21b3a95e",
   "metadata": {},
   "outputs": [
    {
     "name": "stdout",
     "output_type": "stream",
     "text": [
      "The age of the person who paid the highest fare is: 38.0\n",
      "   survived  pclass     sex   age  sibsp  parch     fare embarked  class  \\\n",
      "1         1       1  female  38.0      1      0  71.2833        C  First   \n",
      "3         1       1  female  35.0      1      0  53.1000        S  First   \n",
      "4         0       3    male  35.0      0      0   8.0500        S  Third   \n",
      "2         1       3  female  26.0      0      0   7.9250        S  Third   \n",
      "0         0       3    male  22.0      1      0   7.2500        S  Third   \n",
      "\n",
      "     who  adult_male deck  embark_town alive  alone  alive_reformatted  \n",
      "1  woman       False    C    Cherbourg   yes  False               True  \n",
      "3  woman       False    C  Southampton   yes  False               True  \n",
      "4    man        True  NaN  Southampton    no   True              False  \n",
      "2  woman       False  NaN  Southampton   yes   True               True  \n",
      "0    man        True  NaN  Southampton    no  False              False  \n"
     ]
    }
   ],
   "source": [
    "# Code your sort_values here:\n",
    "sorted_df = new_dataset.sort_values(by=\"fare\", ascending=False)\n",
    "highest_fare_age = sorted_df.iloc[0][\"age\"]\n",
    "print(f\"The age of the person who paid the highest fare is: {highest_fare_age}\")\n",
    "\n",
    "# Run your table here:\n",
    "\n",
    "print(sorted_df.head())"
   ]
  },
  {
   "cell_type": "markdown",
   "id": "0a5d0d2c",
   "metadata": {},
   "source": [
    "### pivot_table <span style=\"color:dodgerblue;\"> - - - - - - - - - - - - - - - - - - - - - - - - - - - - - - - - - - - - - - - - - - - - - - - - - - - </span> \n",
    "1. pivot the table of the summed data where the values are \"fare\", index is \"who\" and \"age_group\", and the columns are \"survived\"\n",
    "\n",
    "Hint: set the aggfunc parameter to np.sum\n",
    "\n",
    "\n"
   ]
  },
  {
   "cell_type": "code",
   "execution_count": 148,
   "id": "74b19d7f",
   "metadata": {},
   "outputs": [
    {
     "name": "stdout",
     "output_type": "stream",
     "text": [
      "survived     0         1\n",
      "who                     \n",
      "man       15.3       NaN\n",
      "woman      NaN  132.3083\n"
     ]
    }
   ],
   "source": [
    "# Code your pivot_table here:\n",
    "\n",
    "pivot_table = new_dataset.pivot_table(values='fare', index = \"who\", columns=\"survived\", aggfunc=\"sum\")\n",
    "print(pivot_table)\n",
    "# Run your table here:\n"
   ]
  },
  {
   "cell_type": "markdown",
   "id": "3863d61c",
   "metadata": {},
   "source": [
    "### Wide to Long <span style=\"color:dodgerblue;\"> - - - - - - - - - - - - - - - - - - - - - - - - - - - - - - - - - - - - - - - - - - - - - - - - - - - </span> \n",
    "\n",
    "1. Create a table where the columns are \"who\" and the values are \"pclass\"\n",
    "1. Answer the question:  How does this table differ from the pivot_table above?  Specifically, how is \"who\" different?"
   ]
  },
  {
   "cell_type": "code",
   "execution_count": 141,
   "id": "c6f05a93",
   "metadata": {},
   "outputs": [
    {
     "name": "stdout",
     "output_type": "stream",
     "text": [
      "     who variable  value\n",
      "0    man   pclass      3\n",
      "1  woman   pclass      1\n",
      "2  woman   pclass      3\n",
      "3  woman   pclass      1\n",
      "4    man   pclass      3\n"
     ]
    }
   ],
   "source": [
    "# Code your table here:\n",
    "\n",
    "\n",
    "long_dataframe = pd.DataFrame(new_dataset)\n",
    "long_format_dataframe = pd.melt(long_dataframe, id_vars = ['who'], value_vars = ['pclass'])\n",
    "\n",
    "# Run your table here:\n",
    "\n",
    "print(long_format_dataframe)\n",
    "# Answer the question here:\n",
    "\n",
    "pivot table gives summarised data whereas long table gives all parameter separately."
   ]
  },
  {
   "cell_type": "markdown",
   "id": "854e4b22",
   "metadata": {},
   "source": [
    "### Melt <span style=\"color:dodgerblue;\"> - - - - - - - - - - - - - - - - - - - - - - - - - - - - - - - - - - - - - - - - - - - - - - - - - - - </span> "
   ]
  },
  {
   "cell_type": "markdown",
   "id": "40521afb",
   "metadata": {},
   "source": [
    "1.  What does **melt** to the data? "
   ]
  },
  {
   "cell_type": "code",
   "execution_count": 27,
   "id": "361a2ac1",
   "metadata": {},
   "outputs": [],
   "source": [
    "# What does melt do?\n",
    "sed to reshape tables from wide format to long format"
   ]
  },
  {
   "cell_type": "markdown",
   "id": "0a9f586c",
   "metadata": {},
   "source": [
    "2. Melt to your data.  Be sure to store the output in a new variable.  What is the new shape of your table?"
   ]
  },
  {
   "cell_type": "code",
   "execution_count": 28,
   "id": "056ee34b",
   "metadata": {},
   "outputs": [],
   "source": [
    "# Create your default melt table here with the following syntax:  new_name = pd.melt(data_set)\n",
    "\n",
    "# Run your table here:\n",
    "# data = []\n",
    "\n",
    "# example_dataframe = pd.DataFrame(data)\n",
    "\n",
    "# long_format_dataset = pd.melt(example_dataset, var_name='', value_name='')\n",
    "# Check the shape of your new table.\n"
   ]
  },
  {
   "cell_type": "markdown",
   "id": "2b203e5c",
   "metadata": {},
   "source": [
    "3. Create a melt table where the index variables are \"embarked\", and the values are \"fare\" and \"deck\""
   ]
  },
  {
   "cell_type": "code",
   "execution_count": 155,
   "id": "49dddb6f",
   "metadata": {},
   "outputs": [
    {
     "name": "stdout",
     "output_type": "stream",
     "text": [
      "  embarked variable    value\n",
      "0        S     fare     7.25\n",
      "1        C     fare  71.2833\n",
      "2        S     fare    7.925\n",
      "3        S     fare     53.1\n",
      "4        S     fare     8.05\n",
      "5        S     deck      NaN\n",
      "6        C     deck        C\n",
      "7        S     deck      NaN\n",
      "8        S     deck        C\n",
      "9        S     deck      NaN\n"
     ]
    }
   ],
   "source": [
    "# Create your melt table here:\n",
    "\n",
    "# Run your table here:\n",
    "data = new_dataset\n",
    "\n",
    "example_dataframe = pd.DataFrame(data)\n",
    "\n",
    "long_format_dataset = pd.melt(example_dataframe, id_vars = ['embarked'], value_vars = ['fare', 'deck'])\n",
    "print(long_format_dataset)\n",
    "# Check the shape\n"
   ]
  },
  {
   "cell_type": "markdown",
   "id": "ed3c7217",
   "metadata": {},
   "source": [
    "# Optonal Challenges:\n",
    "\n",
    "1. Clean and Explore the table.  \n",
    "    1. How would you handle any missing data?\n",
    "    1. Would you keep all of the columns?\n",
    "    1. Would you want to manipulate any data?"
   ]
  },
  {
   "cell_type": "code",
   "execution_count": null,
   "id": "6b2b3f82",
   "metadata": {},
   "outputs": [],
   "source": []
  }
 ],
 "metadata": {
  "kernelspec": {
   "display_name": "Python 3 (ipykernel)",
   "language": "python",
   "name": "python3"
  },
  "language_info": {
   "codemirror_mode": {
    "name": "ipython",
    "version": 3
   },
   "file_extension": ".py",
   "mimetype": "text/x-python",
   "name": "python",
   "nbconvert_exporter": "python",
   "pygments_lexer": "ipython3",
   "version": "3.12.3"
  }
 },
 "nbformat": 4,
 "nbformat_minor": 5
}
